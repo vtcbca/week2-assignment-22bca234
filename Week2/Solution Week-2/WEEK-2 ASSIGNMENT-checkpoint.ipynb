{
 "cells": [
  {
   "cell_type": "markdown",
   "id": "15331187",
   "metadata": {},
   "source": [
    "#WEEK-2 ASSIGNMENT"
   ]
  },
  {
   "cell_type": "markdown",
   "id": "b04bd297",
   "metadata": {},
   "source": [
    "1.Create table \n",
    "stud(id,name) (use I'd as primary key)\n",
    "stud_details(id,city,mobileno) (Use I'd as foreign key)"
   ]
  },
  {
   "cell_type": "code",
   "execution_count": 1,
   "id": "9a5dcf84",
   "metadata": {},
   "outputs": [],
   "source": [
    "import sqlite3 as sq\n"
   ]
  },
  {
   "cell_type": "code",
   "execution_count": 2,
   "id": "7e082814",
   "metadata": {},
   "outputs": [],
   "source": [
    "con=sq.connect('student.db')\n"
   ]
  },
  {
   "cell_type": "code",
   "execution_count": 3,
   "id": "870382cf",
   "metadata": {},
   "outputs": [],
   "source": [
    "cur=con.cursor()"
   ]
  },
  {
   "cell_type": "code",
   "execution_count": 4,
   "id": "e8d60659",
   "metadata": {},
   "outputs": [],
   "source": [
    "table1=\"Create table if not exists stud(sid int primary key,sname text NOT NULL)\""
   ]
  },
  {
   "cell_type": "code",
   "execution_count": 5,
   "id": "f80bf8d5",
   "metadata": {},
   "outputs": [
    {
     "data": {
      "text/plain": [
       "<sqlite3.Cursor at 0x2aac2feba40>"
      ]
     },
     "execution_count": 5,
     "metadata": {},
     "output_type": "execute_result"
    }
   ],
   "source": [
    "cur.execute(table1)"
   ]
  },
  {
   "cell_type": "code",
   "execution_count": 6,
   "id": "85e03e3c",
   "metadata": {},
   "outputs": [],
   "source": [
    "table2=\"Create table if not exists stud_details(sid references stud(sid),city text NOT NULL,mobno int)\""
   ]
  },
  {
   "cell_type": "code",
   "execution_count": 7,
   "id": "474c5815",
   "metadata": {},
   "outputs": [
    {
     "data": {
      "text/plain": [
       "<sqlite3.Cursor at 0x2aac2feba40>"
      ]
     },
     "execution_count": 7,
     "metadata": {},
     "output_type": "execute_result"
    }
   ],
   "source": [
    "cur.execute(table2)"
   ]
  },
  {
   "cell_type": "code",
   "execution_count": 8,
   "id": "2d5ef658",
   "metadata": {},
   "outputs": [],
   "source": [
    "con.commit()"
   ]
  },
  {
   "cell_type": "markdown",
   "id": "2cd964d7",
   "metadata": {},
   "source": [
    "2. Insert minimum 10 records for each table."
   ]
  },
  {
   "cell_type": "code",
   "execution_count": 9,
   "id": "6c446dd4",
   "metadata": {},
   "outputs": [],
   "source": [
    "insert1=\"insert into stud values(101,'OM'),(102,'SAI'),(103,'RAM'),(104,'RADHA'),(105,'KRISHNA'),(106,'SHIV'),(107,'JINAL'),(108,'PRATHANA'),(109,'NETI'),(110,'PRAPTI')\""
   ]
  },
  {
   "cell_type": "code",
   "execution_count": 10,
   "id": "21420b5a",
   "metadata": {},
   "outputs": [
    {
     "data": {
      "text/plain": [
       "<sqlite3.Cursor at 0x2aac2feba40>"
      ]
     },
     "execution_count": 10,
     "metadata": {},
     "output_type": "execute_result"
    }
   ],
   "source": [
    "cur.execute(insert1)"
   ]
  },
  {
   "cell_type": "code",
   "execution_count": 11,
   "id": "11866a28",
   "metadata": {},
   "outputs": [],
   "source": [
    "insert2=\"insert into stud_details values(101,'Surat',9876554651),(102,'Bardoli',9876764321),(103,'Baben',9347754121),(104,'Mumbai',8764450921),(105,'Vadodara',9123552341),(106,'Surat',9876556321),(107,'Bardoli',76543090921),(108,'Mumbai',7654321098),(109,'Vadodara',9012308080),(110,'Bardoli',6543209876)\""
   ]
  },
  {
   "cell_type": "code",
   "execution_count": 12,
   "id": "de34b8e8",
   "metadata": {},
   "outputs": [
    {
     "data": {
      "text/plain": [
       "<sqlite3.Cursor at 0x2aac2feba40>"
      ]
     },
     "execution_count": 12,
     "metadata": {},
     "output_type": "execute_result"
    }
   ],
   "source": [
    "cur.execute(insert2)"
   ]
  },
  {
   "cell_type": "code",
   "execution_count": 13,
   "id": "09ff6ab7",
   "metadata": {},
   "outputs": [],
   "source": [
    "con.commit()"
   ]
  },
  {
   "cell_type": "markdown",
   "id": "8aa9baef",
   "metadata": {},
   "source": [
    "3. Display whose student come from the Surat City."
   ]
  },
  {
   "cell_type": "code",
   "execution_count": 14,
   "id": "03555b52",
   "metadata": {},
   "outputs": [],
   "source": [
    "sel1=\"select * from stud_details where city='Surat' \""
   ]
  },
  {
   "cell_type": "code",
   "execution_count": 15,
   "id": "a492db1e",
   "metadata": {},
   "outputs": [
    {
     "data": {
      "text/plain": [
       "<sqlite3.Cursor at 0x2aac2feba40>"
      ]
     },
     "execution_count": 15,
     "metadata": {},
     "output_type": "execute_result"
    }
   ],
   "source": [
    "cur.execute(sel1)\n"
   ]
  },
  {
   "cell_type": "code",
   "execution_count": 16,
   "id": "b6ba0a4e",
   "metadata": {},
   "outputs": [
    {
     "data": {
      "text/plain": [
       "[(101, 'Surat', 9876554651), (106, 'Surat', 9876556321)]"
      ]
     },
     "execution_count": 16,
     "metadata": {},
     "output_type": "execute_result"
    }
   ],
   "source": [
    "cur.fetchall()"
   ]
  },
  {
   "cell_type": "code",
   "execution_count": 17,
   "id": "abb04e8e",
   "metadata": {},
   "outputs": [],
   "source": [
    "con.commit()"
   ]
  },
  {
   "cell_type": "markdown",
   "id": "ad932ce8",
   "metadata": {},
   "source": [
    "4. Display student details whose city name start with 'B'."
   ]
  },
  {
   "cell_type": "code",
   "execution_count": 18,
   "id": "0623d0d6",
   "metadata": {},
   "outputs": [],
   "source": [
    "\n",
    "sel2=\"select * from stud_details where city LIKE 'B%' \""
   ]
  },
  {
   "cell_type": "code",
   "execution_count": 19,
   "id": "8275665c",
   "metadata": {},
   "outputs": [
    {
     "data": {
      "text/plain": [
       "<sqlite3.Cursor at 0x2aac2feba40>"
      ]
     },
     "execution_count": 19,
     "metadata": {},
     "output_type": "execute_result"
    }
   ],
   "source": [
    "cur.execute(sel2)"
   ]
  },
  {
   "cell_type": "code",
   "execution_count": 20,
   "id": "62f57698",
   "metadata": {},
   "outputs": [
    {
     "data": {
      "text/plain": [
       "[(102, 'Bardoli', 9876764321),\n",
       " (103, 'Baben', 9347754121),\n",
       " (107, 'Bardoli', 76543090921),\n",
       " (110, 'Bardoli', 6543209876)]"
      ]
     },
     "execution_count": 20,
     "metadata": {},
     "output_type": "execute_result"
    }
   ],
   "source": [
    "cur.fetchall()"
   ]
  },
  {
   "cell_type": "code",
   "execution_count": 21,
   "id": "de1472cf",
   "metadata": {},
   "outputs": [],
   "source": [
    "con.commit()"
   ]
  },
  {
   "cell_type": "markdown",
   "id": "f543e13f",
   "metadata": {},
   "source": [
    "5. Update mobileno who are coming from 'Surat'\n",
    " "
   ]
  },
  {
   "cell_type": "code",
   "execution_count": 24,
   "id": "33e8fa22",
   "metadata": {},
   "outputs": [],
   "source": [
    "\n",
    "upd=\"update stud_details set mobno=9090808070 where city='Surat' and sid=101 \""
   ]
  },
  {
   "cell_type": "code",
   "execution_count": 25,
   "id": "eb3cfbc2",
   "metadata": {},
   "outputs": [
    {
     "data": {
      "text/plain": [
       "<sqlite3.Cursor at 0x2aac2feba40>"
      ]
     },
     "execution_count": 25,
     "metadata": {},
     "output_type": "execute_result"
    }
   ],
   "source": [
    "cur.execute(upd)"
   ]
  },
  {
   "cell_type": "code",
   "execution_count": 26,
   "id": "1356f972",
   "metadata": {},
   "outputs": [],
   "source": [
    "con.commit()"
   ]
  },
  {
   "cell_type": "code",
   "execution_count": 27,
   "id": "1de9c7d2",
   "metadata": {},
   "outputs": [],
   "source": [
    "con.close() "
   ]
  },
  {
   "cell_type": "code",
   "execution_count": null,
   "id": "8bebb5ac",
   "metadata": {},
   "outputs": [],
   "source": []
  }
 ],
 "metadata": {
  "kernelspec": {
   "display_name": "Python 3 (ipykernel)",
   "language": "python",
   "name": "python3"
  },
  "language_info": {
   "codemirror_mode": {
    "name": "ipython",
    "version": 3
   },
   "file_extension": ".py",
   "mimetype": "text/x-python",
   "name": "python",
   "nbconvert_exporter": "python",
   "pygments_lexer": "ipython3",
   "version": "3.10.7"
  }
 },
 "nbformat": 4,
 "nbformat_minor": 5
}
