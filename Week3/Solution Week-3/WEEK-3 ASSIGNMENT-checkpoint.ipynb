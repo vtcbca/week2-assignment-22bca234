{
 "cells": [
  {
   "cell_type": "code",
   "execution_count": 1,
   "id": "2dececff",
   "metadata": {},
   "outputs": [],
   "source": [
    "import sqlite3 as sq"
   ]
  },
  {
   "cell_type": "code",
   "execution_count": 2,
   "id": "74655f5b",
   "metadata": {},
   "outputs": [],
   "source": [
    "con=sq.connect('ESM.db')"
   ]
  },
  {
   "cell_type": "code",
   "execution_count": 3,
   "id": "0645c6bc",
   "metadata": {},
   "outputs": [],
   "source": [
    "table=\"Create table if not exists employee(eid int primary key,ename text NOT NULL,dept text ,basic int,branch text)\""
   ]
  },
  {
   "cell_type": "code",
   "execution_count": 4,
   "id": "9fbf57bb",
   "metadata": {},
   "outputs": [],
   "source": [
    "cur=con.cursor()"
   ]
  },
  {
   "cell_type": "code",
   "execution_count": 5,
   "id": "db3bc457",
   "metadata": {},
   "outputs": [
    {
     "data": {
      "text/plain": [
       "<sqlite3.Cursor at 0x1e24235ba40>"
      ]
     },
     "execution_count": 5,
     "metadata": {},
     "output_type": "execute_result"
    }
   ],
   "source": [
    "cur.execute(table)"
   ]
  },
  {
   "cell_type": "code",
   "execution_count": 6,
   "id": "883508e3",
   "metadata": {},
   "outputs": [],
   "source": [
    "con.commit()"
   ]
  },
  {
   "cell_type": "code",
   "execution_count": 7,
   "id": "2eb4aa94",
   "metadata": {},
   "outputs": [],
   "source": [
    "insert1=\"insert into employee values(101,'OM','IT',25000,'Surat'),(102,'SAI','Account',20000,'Bardoli'),(103,'RAM','HR',15000,'Surat'),(104,'RADHA','Inventory',25000,'Baben'),(105,'Krishna','IT',35000,'Mumbai')\""
   ]
  },
  {
   "cell_type": "code",
   "execution_count": 8,
   "id": "34b05dde",
   "metadata": {},
   "outputs": [
    {
     "data": {
      "text/plain": [
       "<sqlite3.Cursor at 0x1e24235ba40>"
      ]
     },
     "execution_count": 8,
     "metadata": {},
     "output_type": "execute_result"
    }
   ],
   "source": [
    "cur.execute(insert1)"
   ]
  },
  {
   "cell_type": "code",
   "execution_count": 9,
   "id": "147b64cd",
   "metadata": {},
   "outputs": [],
   "source": [
    "con.commit()"
   ]
  },
  {
   "cell_type": "code",
   "execution_count": null,
   "id": "2ea81f93",
   "metadata": {},
   "outputs": [],
   "source": []
  }
 ],
 "metadata": {
  "kernelspec": {
   "display_name": "Python 3 (ipykernel)",
   "language": "python",
   "name": "python3"
  },
  "language_info": {
   "codemirror_mode": {
    "name": "ipython",
    "version": 3
   },
   "file_extension": ".py",
   "mimetype": "text/x-python",
   "name": "python",
   "nbconvert_exporter": "python",
   "pygments_lexer": "ipython3",
   "version": "3.10.7"
  }
 },
 "nbformat": 4,
 "nbformat_minor": 5
}
