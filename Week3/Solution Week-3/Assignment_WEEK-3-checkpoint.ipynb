{
 "cells": [
  {
   "cell_type": "markdown",
   "id": "723e5fec",
   "metadata": {},
   "source": [
    "1. Create table"
   ]
  },
  {
   "cell_type": "code",
   "execution_count": 1,
   "id": "23b7a1b0",
   "metadata": {},
   "outputs": [],
   "source": [
    "import sqlite3 as sq"
   ]
  },
  {
   "cell_type": "code",
   "execution_count": 2,
   "id": "76c03775",
   "metadata": {},
   "outputs": [],
   "source": [
    "con=sq.connect('ESM.db')"
   ]
  },
  {
   "cell_type": "code",
   "execution_count": 3,
   "id": "fb4632ee",
   "metadata": {},
   "outputs": [],
   "source": [
    "table=\"Create table if not exists employee(eid int primary key,ename text NOT NULL,dept text ,basic int,branch text)\""
   ]
  },
  {
   "cell_type": "code",
   "execution_count": 4,
   "id": "c58edbec",
   "metadata": {},
   "outputs": [],
   "source": [
    "cur=con.cursor()"
   ]
  },
  {
   "cell_type": "code",
   "execution_count": 5,
   "id": "65026502",
   "metadata": {},
   "outputs": [
    {
     "data": {
      "text/plain": [
       "<sqlite3.Cursor at 0x1e8bc50b940>"
      ]
     },
     "execution_count": 5,
     "metadata": {},
     "output_type": "execute_result"
    }
   ],
   "source": [
    "cur.execute(table)"
   ]
  },
  {
   "cell_type": "code",
   "execution_count": 6,
   "id": "b808ea42",
   "metadata": {},
   "outputs": [],
   "source": [
    "con.commit()"
   ]
  },
  {
   "cell_type": "markdown",
   "id": "d08002ac",
   "metadata": {},
   "source": [
    "2. Insert 5 Records directly, 5 records using tuple and 5 records using taking input from user"
   ]
  },
  {
   "cell_type": "code",
   "execution_count": 7,
   "id": "ead47d35",
   "metadata": {},
   "outputs": [],
   "source": [
    "insert1=\"insert into employee values(101,'OM','IT',25000,'Surat'),(102,'SAI','Account',20000,'Bardoli'),(103,'RAM','HR',15000,'Surat'),(104,'RADHA','Inventory',25000,'Baben'),(105,'Krishna','IT',35000,'Mumbai')\""
   ]
  },
  {
   "cell_type": "code",
   "execution_count": 8,
   "id": "6f9e905b",
   "metadata": {},
   "outputs": [
    {
     "data": {
      "text/plain": [
       "<sqlite3.Cursor at 0x1e8bc50b940>"
      ]
     },
     "execution_count": 8,
     "metadata": {},
     "output_type": "execute_result"
    }
   ],
   "source": [
    "cur.execute(insert1)"
   ]
  },
  {
   "cell_type": "code",
   "execution_count": 9,
   "id": "393cf6c3",
   "metadata": {},
   "outputs": [],
   "source": [
    "insert2=\"insert into employee values(?,?,?,?,?)\""
   ]
  },
  {
   "cell_type": "code",
   "execution_count": 10,
   "id": "8a3851b7",
   "metadata": {},
   "outputs": [],
   "source": [
    "t=((106,'Shiv','HR',50000,'Banglore'),(107,'Paravti','Inventory',40000,'Delhi'),\n",
    "   (108,'Gopi','Account',30000,'Vadodara'),(109,'Anil','IT',60000,'Mumbai'),\n",
    "   (110,'Lakhsmi','Inventory',20000,'Surat'))"
   ]
  },
  {
   "cell_type": "code",
   "execution_count": 11,
   "id": "98c42464",
   "metadata": {},
   "outputs": [
    {
     "data": {
      "text/plain": [
       "<sqlite3.Cursor at 0x1e8bc50b940>"
      ]
     },
     "execution_count": 11,
     "metadata": {},
     "output_type": "execute_result"
    }
   ],
   "source": [
    "cur.executemany(insert2,t)"
   ]
  },
  {
   "cell_type": "code",
   "execution_count": 12,
   "id": "a06cb71c",
   "metadata": {},
   "outputs": [],
   "source": [
    "insert3=\"insert into employee values(?,?,?,?,?)\""
   ]
  },
  {
   "cell_type": "code",
   "execution_count": 13,
   "id": "69c7d0bf",
   "metadata": {},
   "outputs": [],
   "source": [
    "l=[]"
   ]
  },
  {
   "cell_type": "code",
   "execution_count": 14,
   "id": "0999a778",
   "metadata": {},
   "outputs": [
    {
     "name": "stdout",
     "output_type": "stream",
     "text": [
      "Enter id :111\n",
      "Enter Name :Jinal\n",
      "Enter Department :HR\n",
      "Enter Salary:70000\n",
      "Enter Branch :Surat\n",
      "Enter id :112\n",
      "Enter Name :Prathana\n",
      "Enter Department :Account\n",
      "Enter Salary:30000\n",
      "Enter Branch :Valsad\n",
      "Enter id :113\n",
      "Enter Name :Neti\n",
      "Enter Department :HR\n",
      "Enter Salary:90000\n",
      "Enter Branch :Kolkata\n",
      "Enter id :114\n",
      "Enter Name :Prapti\n",
      "Enter Department :IT\n",
      "Enter Salary:70000\n",
      "Enter Branch :Mumbai\n",
      "Enter id :115\n",
      "Enter Name :Nayan\n",
      "Enter Department :Inventory\n",
      "Enter Salary:50000\n",
      "Enter Branch :Surat\n"
     ]
    }
   ],
   "source": [
    "for i in range(5):\n",
    "    no=int(input(\"Enter id :\"))\n",
    "    name=input(\"Enter Name :\")\n",
    "    dept=input(\"Enter Department :\")\n",
    "    salary=int(input(\"Enter Salary:\"))\n",
    "    branch=input(\"Enter Branch :\")\n",
    "    t2=(no,name,dept,salary,branch)\n",
    "    l.append(t2)"
   ]
  },
  {
   "cell_type": "code",
   "execution_count": 16,
   "id": "7bfebbca",
   "metadata": {},
   "outputs": [
    {
     "data": {
      "text/plain": [
       "<sqlite3.Cursor at 0x1e8bc50b940>"
      ]
     },
     "execution_count": 16,
     "metadata": {},
     "output_type": "execute_result"
    }
   ],
   "source": [
    "cur.executemany(insert3,l)"
   ]
  },
  {
   "cell_type": "code",
   "execution_count": 17,
   "id": "2e451e32",
   "metadata": {},
   "outputs": [],
   "source": [
    "con.commit()"
   ]
  },
  {
   "cell_type": "markdown",
   "id": "a943c99c",
   "metadata": {},
   "source": [
    "3. Update records who are from \"Surat\" branch with increment in salary 10%."
   ]
  },
  {
   "cell_type": "code",
   "execution_count": 18,
   "id": "64d49d08",
   "metadata": {},
   "outputs": [],
   "source": [
    "upd=\"Update employee set basic=basic+(basic*10/100) where branch='Surat'\""
   ]
  },
  {
   "cell_type": "code",
   "execution_count": 19,
   "id": "a55915c6",
   "metadata": {},
   "outputs": [
    {
     "data": {
      "text/plain": [
       "<sqlite3.Cursor at 0x1e8bc50b940>"
      ]
     },
     "execution_count": 19,
     "metadata": {},
     "output_type": "execute_result"
    }
   ],
   "source": [
    "cur.execute(upd)"
   ]
  },
  {
   "cell_type": "code",
   "execution_count": 20,
   "id": "09bf8b1c",
   "metadata": {},
   "outputs": [],
   "source": [
    "con.commit()"
   ]
  },
  {
   "cell_type": "markdown",
   "id": "f23e9715",
   "metadata": {},
   "source": [
    "\n",
    "4. Print All records.\n"
   ]
  },
  {
   "cell_type": "code",
   "execution_count": 21,
   "id": "10f7bee6",
   "metadata": {},
   "outputs": [],
   "source": [
    "sel=\"select * from employee\""
   ]
  },
  {
   "cell_type": "code",
   "execution_count": 22,
   "id": "b339f563",
   "metadata": {},
   "outputs": [
    {
     "data": {
      "text/plain": [
       "<sqlite3.Cursor at 0x1e8bc50b940>"
      ]
     },
     "execution_count": 22,
     "metadata": {},
     "output_type": "execute_result"
    }
   ],
   "source": [
    "cur.execute(sel)"
   ]
  },
  {
   "cell_type": "code",
   "execution_count": 23,
   "id": "0fc2bf67",
   "metadata": {},
   "outputs": [],
   "source": [
    "import pandas as pd"
   ]
  },
  {
   "cell_type": "code",
   "execution_count": 24,
   "id": "cd3a8f15",
   "metadata": {},
   "outputs": [
    {
     "data": {
      "text/html": [
       "<div>\n",
       "<style scoped>\n",
       "    .dataframe tbody tr th:only-of-type {\n",
       "        vertical-align: middle;\n",
       "    }\n",
       "\n",
       "    .dataframe tbody tr th {\n",
       "        vertical-align: top;\n",
       "    }\n",
       "\n",
       "    .dataframe thead th {\n",
       "        text-align: right;\n",
       "    }\n",
       "</style>\n",
       "<table border=\"1\" class=\"dataframe\">\n",
       "  <thead>\n",
       "    <tr style=\"text-align: right;\">\n",
       "      <th></th>\n",
       "      <th>0</th>\n",
       "      <th>1</th>\n",
       "      <th>2</th>\n",
       "      <th>3</th>\n",
       "      <th>4</th>\n",
       "    </tr>\n",
       "  </thead>\n",
       "  <tbody>\n",
       "    <tr>\n",
       "      <th>0</th>\n",
       "      <td>101</td>\n",
       "      <td>OM</td>\n",
       "      <td>IT</td>\n",
       "      <td>27500</td>\n",
       "      <td>Surat</td>\n",
       "    </tr>\n",
       "    <tr>\n",
       "      <th>1</th>\n",
       "      <td>102</td>\n",
       "      <td>SAI</td>\n",
       "      <td>Account</td>\n",
       "      <td>20000</td>\n",
       "      <td>Bardoli</td>\n",
       "    </tr>\n",
       "    <tr>\n",
       "      <th>2</th>\n",
       "      <td>103</td>\n",
       "      <td>RAM</td>\n",
       "      <td>HR</td>\n",
       "      <td>16500</td>\n",
       "      <td>Surat</td>\n",
       "    </tr>\n",
       "    <tr>\n",
       "      <th>3</th>\n",
       "      <td>104</td>\n",
       "      <td>RADHA</td>\n",
       "      <td>Inventory</td>\n",
       "      <td>25000</td>\n",
       "      <td>Baben</td>\n",
       "    </tr>\n",
       "    <tr>\n",
       "      <th>4</th>\n",
       "      <td>105</td>\n",
       "      <td>Krishna</td>\n",
       "      <td>IT</td>\n",
       "      <td>35000</td>\n",
       "      <td>Mumbai</td>\n",
       "    </tr>\n",
       "    <tr>\n",
       "      <th>5</th>\n",
       "      <td>106</td>\n",
       "      <td>Shiv</td>\n",
       "      <td>HR</td>\n",
       "      <td>50000</td>\n",
       "      <td>Banglore</td>\n",
       "    </tr>\n",
       "    <tr>\n",
       "      <th>6</th>\n",
       "      <td>107</td>\n",
       "      <td>Paravti</td>\n",
       "      <td>Inventory</td>\n",
       "      <td>40000</td>\n",
       "      <td>Delhi</td>\n",
       "    </tr>\n",
       "    <tr>\n",
       "      <th>7</th>\n",
       "      <td>108</td>\n",
       "      <td>Gopi</td>\n",
       "      <td>Account</td>\n",
       "      <td>30000</td>\n",
       "      <td>Vadodara</td>\n",
       "    </tr>\n",
       "    <tr>\n",
       "      <th>8</th>\n",
       "      <td>109</td>\n",
       "      <td>Anil</td>\n",
       "      <td>IT</td>\n",
       "      <td>60000</td>\n",
       "      <td>Mumbai</td>\n",
       "    </tr>\n",
       "    <tr>\n",
       "      <th>9</th>\n",
       "      <td>110</td>\n",
       "      <td>Lakhsmi</td>\n",
       "      <td>Inventory</td>\n",
       "      <td>22000</td>\n",
       "      <td>Surat</td>\n",
       "    </tr>\n",
       "    <tr>\n",
       "      <th>10</th>\n",
       "      <td>111</td>\n",
       "      <td>Jinal</td>\n",
       "      <td>HR</td>\n",
       "      <td>77000</td>\n",
       "      <td>Surat</td>\n",
       "    </tr>\n",
       "    <tr>\n",
       "      <th>11</th>\n",
       "      <td>112</td>\n",
       "      <td>Prathana</td>\n",
       "      <td>Account</td>\n",
       "      <td>30000</td>\n",
       "      <td>Valsad</td>\n",
       "    </tr>\n",
       "    <tr>\n",
       "      <th>12</th>\n",
       "      <td>113</td>\n",
       "      <td>Neti</td>\n",
       "      <td>HR</td>\n",
       "      <td>90000</td>\n",
       "      <td>Kolkata</td>\n",
       "    </tr>\n",
       "    <tr>\n",
       "      <th>13</th>\n",
       "      <td>114</td>\n",
       "      <td>Prapti</td>\n",
       "      <td>IT</td>\n",
       "      <td>70000</td>\n",
       "      <td>Mumbai</td>\n",
       "    </tr>\n",
       "    <tr>\n",
       "      <th>14</th>\n",
       "      <td>115</td>\n",
       "      <td>Nayan</td>\n",
       "      <td>Inventory</td>\n",
       "      <td>55000</td>\n",
       "      <td>Surat</td>\n",
       "    </tr>\n",
       "  </tbody>\n",
       "</table>\n",
       "</div>"
      ],
      "text/plain": [
       "      0         1          2      3         4\n",
       "0   101        OM         IT  27500     Surat\n",
       "1   102       SAI    Account  20000   Bardoli\n",
       "2   103       RAM         HR  16500     Surat\n",
       "3   104     RADHA  Inventory  25000     Baben\n",
       "4   105   Krishna         IT  35000    Mumbai\n",
       "5   106      Shiv         HR  50000  Banglore\n",
       "6   107   Paravti  Inventory  40000     Delhi\n",
       "7   108      Gopi    Account  30000  Vadodara\n",
       "8   109      Anil         IT  60000    Mumbai\n",
       "9   110   Lakhsmi  Inventory  22000     Surat\n",
       "10  111     Jinal         HR  77000     Surat\n",
       "11  112  Prathana    Account  30000    Valsad\n",
       "12  113      Neti         HR  90000   Kolkata\n",
       "13  114    Prapti         IT  70000    Mumbai\n",
       "14  115     Nayan  Inventory  55000     Surat"
      ]
     },
     "execution_count": 24,
     "metadata": {},
     "output_type": "execute_result"
    }
   ],
   "source": [
    "pd.DataFrame(cur.fetchall())"
   ]
  },
  {
   "cell_type": "markdown",
   "id": "64e0bcbc",
   "metadata": {},
   "source": [
    "5. Print records where dept is \"HR\" and \"IT\"."
   ]
  },
  {
   "cell_type": "code",
   "execution_count": 25,
   "id": "7227e6e6",
   "metadata": {},
   "outputs": [],
   "source": [
    "sel1=\"select * from employee where  dept IN('HR','IT')\""
   ]
  },
  {
   "cell_type": "code",
   "execution_count": 26,
   "id": "fce75839",
   "metadata": {},
   "outputs": [
    {
     "data": {
      "text/plain": [
       "<sqlite3.Cursor at 0x1e8bc50b940>"
      ]
     },
     "execution_count": 26,
     "metadata": {},
     "output_type": "execute_result"
    }
   ],
   "source": [
    "cur.execute(sel1)"
   ]
  },
  {
   "cell_type": "code",
   "execution_count": 27,
   "id": "a84a6f40",
   "metadata": {},
   "outputs": [
    {
     "data": {
      "text/html": [
       "<div>\n",
       "<style scoped>\n",
       "    .dataframe tbody tr th:only-of-type {\n",
       "        vertical-align: middle;\n",
       "    }\n",
       "\n",
       "    .dataframe tbody tr th {\n",
       "        vertical-align: top;\n",
       "    }\n",
       "\n",
       "    .dataframe thead th {\n",
       "        text-align: right;\n",
       "    }\n",
       "</style>\n",
       "<table border=\"1\" class=\"dataframe\">\n",
       "  <thead>\n",
       "    <tr style=\"text-align: right;\">\n",
       "      <th></th>\n",
       "      <th>0</th>\n",
       "      <th>1</th>\n",
       "      <th>2</th>\n",
       "      <th>3</th>\n",
       "      <th>4</th>\n",
       "    </tr>\n",
       "  </thead>\n",
       "  <tbody>\n",
       "    <tr>\n",
       "      <th>0</th>\n",
       "      <td>101</td>\n",
       "      <td>OM</td>\n",
       "      <td>IT</td>\n",
       "      <td>27500</td>\n",
       "      <td>Surat</td>\n",
       "    </tr>\n",
       "    <tr>\n",
       "      <th>1</th>\n",
       "      <td>103</td>\n",
       "      <td>RAM</td>\n",
       "      <td>HR</td>\n",
       "      <td>16500</td>\n",
       "      <td>Surat</td>\n",
       "    </tr>\n",
       "    <tr>\n",
       "      <th>2</th>\n",
       "      <td>105</td>\n",
       "      <td>Krishna</td>\n",
       "      <td>IT</td>\n",
       "      <td>35000</td>\n",
       "      <td>Mumbai</td>\n",
       "    </tr>\n",
       "    <tr>\n",
       "      <th>3</th>\n",
       "      <td>106</td>\n",
       "      <td>Shiv</td>\n",
       "      <td>HR</td>\n",
       "      <td>50000</td>\n",
       "      <td>Banglore</td>\n",
       "    </tr>\n",
       "    <tr>\n",
       "      <th>4</th>\n",
       "      <td>109</td>\n",
       "      <td>Anil</td>\n",
       "      <td>IT</td>\n",
       "      <td>60000</td>\n",
       "      <td>Mumbai</td>\n",
       "    </tr>\n",
       "    <tr>\n",
       "      <th>5</th>\n",
       "      <td>111</td>\n",
       "      <td>Jinal</td>\n",
       "      <td>HR</td>\n",
       "      <td>77000</td>\n",
       "      <td>Surat</td>\n",
       "    </tr>\n",
       "    <tr>\n",
       "      <th>6</th>\n",
       "      <td>113</td>\n",
       "      <td>Neti</td>\n",
       "      <td>HR</td>\n",
       "      <td>90000</td>\n",
       "      <td>Kolkata</td>\n",
       "    </tr>\n",
       "    <tr>\n",
       "      <th>7</th>\n",
       "      <td>114</td>\n",
       "      <td>Prapti</td>\n",
       "      <td>IT</td>\n",
       "      <td>70000</td>\n",
       "      <td>Mumbai</td>\n",
       "    </tr>\n",
       "  </tbody>\n",
       "</table>\n",
       "</div>"
      ],
      "text/plain": [
       "     0        1   2      3         4\n",
       "0  101       OM  IT  27500     Surat\n",
       "1  103      RAM  HR  16500     Surat\n",
       "2  105  Krishna  IT  35000    Mumbai\n",
       "3  106     Shiv  HR  50000  Banglore\n",
       "4  109     Anil  IT  60000    Mumbai\n",
       "5  111    Jinal  HR  77000     Surat\n",
       "6  113     Neti  HR  90000   Kolkata\n",
       "7  114   Prapti  IT  70000    Mumbai"
      ]
     },
     "execution_count": 27,
     "metadata": {},
     "output_type": "execute_result"
    }
   ],
   "source": [
    "pd.DataFrame(cur.fetchall())"
   ]
  },
  {
   "cell_type": "markdown",
   "id": "23d5035a",
   "metadata": {},
   "source": [
    "6. Print records in sorting order of department."
   ]
  },
  {
   "cell_type": "code",
   "execution_count": 28,
   "id": "90fa6ebf",
   "metadata": {},
   "outputs": [],
   "source": [
    "sel2=\"select * from employee order by dept\""
   ]
  },
  {
   "cell_type": "code",
   "execution_count": 29,
   "id": "7668a181",
   "metadata": {},
   "outputs": [
    {
     "data": {
      "text/plain": [
       "<sqlite3.Cursor at 0x1e8bc50b940>"
      ]
     },
     "execution_count": 29,
     "metadata": {},
     "output_type": "execute_result"
    }
   ],
   "source": [
    "cur.execute(sel2)"
   ]
  },
  {
   "cell_type": "code",
   "execution_count": 30,
   "id": "4dafe0bd",
   "metadata": {},
   "outputs": [
    {
     "data": {
      "text/html": [
       "<div>\n",
       "<style scoped>\n",
       "    .dataframe tbody tr th:only-of-type {\n",
       "        vertical-align: middle;\n",
       "    }\n",
       "\n",
       "    .dataframe tbody tr th {\n",
       "        vertical-align: top;\n",
       "    }\n",
       "\n",
       "    .dataframe thead th {\n",
       "        text-align: right;\n",
       "    }\n",
       "</style>\n",
       "<table border=\"1\" class=\"dataframe\">\n",
       "  <thead>\n",
       "    <tr style=\"text-align: right;\">\n",
       "      <th></th>\n",
       "      <th>0</th>\n",
       "      <th>1</th>\n",
       "      <th>2</th>\n",
       "      <th>3</th>\n",
       "      <th>4</th>\n",
       "    </tr>\n",
       "  </thead>\n",
       "  <tbody>\n",
       "    <tr>\n",
       "      <th>0</th>\n",
       "      <td>102</td>\n",
       "      <td>SAI</td>\n",
       "      <td>Account</td>\n",
       "      <td>20000</td>\n",
       "      <td>Bardoli</td>\n",
       "    </tr>\n",
       "    <tr>\n",
       "      <th>1</th>\n",
       "      <td>108</td>\n",
       "      <td>Gopi</td>\n",
       "      <td>Account</td>\n",
       "      <td>30000</td>\n",
       "      <td>Vadodara</td>\n",
       "    </tr>\n",
       "    <tr>\n",
       "      <th>2</th>\n",
       "      <td>112</td>\n",
       "      <td>Prathana</td>\n",
       "      <td>Account</td>\n",
       "      <td>30000</td>\n",
       "      <td>Valsad</td>\n",
       "    </tr>\n",
       "    <tr>\n",
       "      <th>3</th>\n",
       "      <td>103</td>\n",
       "      <td>RAM</td>\n",
       "      <td>HR</td>\n",
       "      <td>16500</td>\n",
       "      <td>Surat</td>\n",
       "    </tr>\n",
       "    <tr>\n",
       "      <th>4</th>\n",
       "      <td>106</td>\n",
       "      <td>Shiv</td>\n",
       "      <td>HR</td>\n",
       "      <td>50000</td>\n",
       "      <td>Banglore</td>\n",
       "    </tr>\n",
       "    <tr>\n",
       "      <th>5</th>\n",
       "      <td>111</td>\n",
       "      <td>Jinal</td>\n",
       "      <td>HR</td>\n",
       "      <td>77000</td>\n",
       "      <td>Surat</td>\n",
       "    </tr>\n",
       "    <tr>\n",
       "      <th>6</th>\n",
       "      <td>113</td>\n",
       "      <td>Neti</td>\n",
       "      <td>HR</td>\n",
       "      <td>90000</td>\n",
       "      <td>Kolkata</td>\n",
       "    </tr>\n",
       "    <tr>\n",
       "      <th>7</th>\n",
       "      <td>101</td>\n",
       "      <td>OM</td>\n",
       "      <td>IT</td>\n",
       "      <td>27500</td>\n",
       "      <td>Surat</td>\n",
       "    </tr>\n",
       "    <tr>\n",
       "      <th>8</th>\n",
       "      <td>105</td>\n",
       "      <td>Krishna</td>\n",
       "      <td>IT</td>\n",
       "      <td>35000</td>\n",
       "      <td>Mumbai</td>\n",
       "    </tr>\n",
       "    <tr>\n",
       "      <th>9</th>\n",
       "      <td>109</td>\n",
       "      <td>Anil</td>\n",
       "      <td>IT</td>\n",
       "      <td>60000</td>\n",
       "      <td>Mumbai</td>\n",
       "    </tr>\n",
       "    <tr>\n",
       "      <th>10</th>\n",
       "      <td>114</td>\n",
       "      <td>Prapti</td>\n",
       "      <td>IT</td>\n",
       "      <td>70000</td>\n",
       "      <td>Mumbai</td>\n",
       "    </tr>\n",
       "    <tr>\n",
       "      <th>11</th>\n",
       "      <td>104</td>\n",
       "      <td>RADHA</td>\n",
       "      <td>Inventory</td>\n",
       "      <td>25000</td>\n",
       "      <td>Baben</td>\n",
       "    </tr>\n",
       "    <tr>\n",
       "      <th>12</th>\n",
       "      <td>107</td>\n",
       "      <td>Paravti</td>\n",
       "      <td>Inventory</td>\n",
       "      <td>40000</td>\n",
       "      <td>Delhi</td>\n",
       "    </tr>\n",
       "    <tr>\n",
       "      <th>13</th>\n",
       "      <td>110</td>\n",
       "      <td>Lakhsmi</td>\n",
       "      <td>Inventory</td>\n",
       "      <td>22000</td>\n",
       "      <td>Surat</td>\n",
       "    </tr>\n",
       "    <tr>\n",
       "      <th>14</th>\n",
       "      <td>115</td>\n",
       "      <td>Nayan</td>\n",
       "      <td>Inventory</td>\n",
       "      <td>55000</td>\n",
       "      <td>Surat</td>\n",
       "    </tr>\n",
       "  </tbody>\n",
       "</table>\n",
       "</div>"
      ],
      "text/plain": [
       "      0         1          2      3         4\n",
       "0   102       SAI    Account  20000   Bardoli\n",
       "1   108      Gopi    Account  30000  Vadodara\n",
       "2   112  Prathana    Account  30000    Valsad\n",
       "3   103       RAM         HR  16500     Surat\n",
       "4   106      Shiv         HR  50000  Banglore\n",
       "5   111     Jinal         HR  77000     Surat\n",
       "6   113      Neti         HR  90000   Kolkata\n",
       "7   101        OM         IT  27500     Surat\n",
       "8   105   Krishna         IT  35000    Mumbai\n",
       "9   109      Anil         IT  60000    Mumbai\n",
       "10  114    Prapti         IT  70000    Mumbai\n",
       "11  104     RADHA  Inventory  25000     Baben\n",
       "12  107   Paravti  Inventory  40000     Delhi\n",
       "13  110   Lakhsmi  Inventory  22000     Surat\n",
       "14  115     Nayan  Inventory  55000     Surat"
      ]
     },
     "execution_count": 30,
     "metadata": {},
     "output_type": "execute_result"
    }
   ],
   "source": [
    "pd.DataFrame(cur.fetchall())"
   ]
  },
  {
   "cell_type": "markdown",
   "id": "3eff7725",
   "metadata": {},
   "source": [
    "\n",
    "7. Print records where basic is >6000."
   ]
  },
  {
   "cell_type": "code",
   "execution_count": 31,
   "id": "6a14d761",
   "metadata": {},
   "outputs": [],
   "source": [
    "sel3=\"select * from employee where basic>6000\""
   ]
  },
  {
   "cell_type": "code",
   "execution_count": 32,
   "id": "785efc30",
   "metadata": {},
   "outputs": [
    {
     "data": {
      "text/plain": [
       "<sqlite3.Cursor at 0x1e8bc50b940>"
      ]
     },
     "execution_count": 32,
     "metadata": {},
     "output_type": "execute_result"
    }
   ],
   "source": [
    "cur.execute(sel3)"
   ]
  },
  {
   "cell_type": "code",
   "execution_count": 33,
   "id": "1319c2a6",
   "metadata": {},
   "outputs": [
    {
     "data": {
      "text/html": [
       "<div>\n",
       "<style scoped>\n",
       "    .dataframe tbody tr th:only-of-type {\n",
       "        vertical-align: middle;\n",
       "    }\n",
       "\n",
       "    .dataframe tbody tr th {\n",
       "        vertical-align: top;\n",
       "    }\n",
       "\n",
       "    .dataframe thead th {\n",
       "        text-align: right;\n",
       "    }\n",
       "</style>\n",
       "<table border=\"1\" class=\"dataframe\">\n",
       "  <thead>\n",
       "    <tr style=\"text-align: right;\">\n",
       "      <th></th>\n",
       "      <th>0</th>\n",
       "      <th>1</th>\n",
       "      <th>2</th>\n",
       "      <th>3</th>\n",
       "      <th>4</th>\n",
       "    </tr>\n",
       "  </thead>\n",
       "  <tbody>\n",
       "    <tr>\n",
       "      <th>0</th>\n",
       "      <td>101</td>\n",
       "      <td>OM</td>\n",
       "      <td>IT</td>\n",
       "      <td>27500</td>\n",
       "      <td>Surat</td>\n",
       "    </tr>\n",
       "    <tr>\n",
       "      <th>1</th>\n",
       "      <td>102</td>\n",
       "      <td>SAI</td>\n",
       "      <td>Account</td>\n",
       "      <td>20000</td>\n",
       "      <td>Bardoli</td>\n",
       "    </tr>\n",
       "    <tr>\n",
       "      <th>2</th>\n",
       "      <td>103</td>\n",
       "      <td>RAM</td>\n",
       "      <td>HR</td>\n",
       "      <td>16500</td>\n",
       "      <td>Surat</td>\n",
       "    </tr>\n",
       "    <tr>\n",
       "      <th>3</th>\n",
       "      <td>104</td>\n",
       "      <td>RADHA</td>\n",
       "      <td>Inventory</td>\n",
       "      <td>25000</td>\n",
       "      <td>Baben</td>\n",
       "    </tr>\n",
       "    <tr>\n",
       "      <th>4</th>\n",
       "      <td>105</td>\n",
       "      <td>Krishna</td>\n",
       "      <td>IT</td>\n",
       "      <td>35000</td>\n",
       "      <td>Mumbai</td>\n",
       "    </tr>\n",
       "    <tr>\n",
       "      <th>5</th>\n",
       "      <td>106</td>\n",
       "      <td>Shiv</td>\n",
       "      <td>HR</td>\n",
       "      <td>50000</td>\n",
       "      <td>Banglore</td>\n",
       "    </tr>\n",
       "    <tr>\n",
       "      <th>6</th>\n",
       "      <td>107</td>\n",
       "      <td>Paravti</td>\n",
       "      <td>Inventory</td>\n",
       "      <td>40000</td>\n",
       "      <td>Delhi</td>\n",
       "    </tr>\n",
       "    <tr>\n",
       "      <th>7</th>\n",
       "      <td>108</td>\n",
       "      <td>Gopi</td>\n",
       "      <td>Account</td>\n",
       "      <td>30000</td>\n",
       "      <td>Vadodara</td>\n",
       "    </tr>\n",
       "    <tr>\n",
       "      <th>8</th>\n",
       "      <td>109</td>\n",
       "      <td>Anil</td>\n",
       "      <td>IT</td>\n",
       "      <td>60000</td>\n",
       "      <td>Mumbai</td>\n",
       "    </tr>\n",
       "    <tr>\n",
       "      <th>9</th>\n",
       "      <td>110</td>\n",
       "      <td>Lakhsmi</td>\n",
       "      <td>Inventory</td>\n",
       "      <td>22000</td>\n",
       "      <td>Surat</td>\n",
       "    </tr>\n",
       "    <tr>\n",
       "      <th>10</th>\n",
       "      <td>111</td>\n",
       "      <td>Jinal</td>\n",
       "      <td>HR</td>\n",
       "      <td>77000</td>\n",
       "      <td>Surat</td>\n",
       "    </tr>\n",
       "    <tr>\n",
       "      <th>11</th>\n",
       "      <td>112</td>\n",
       "      <td>Prathana</td>\n",
       "      <td>Account</td>\n",
       "      <td>30000</td>\n",
       "      <td>Valsad</td>\n",
       "    </tr>\n",
       "    <tr>\n",
       "      <th>12</th>\n",
       "      <td>113</td>\n",
       "      <td>Neti</td>\n",
       "      <td>HR</td>\n",
       "      <td>90000</td>\n",
       "      <td>Kolkata</td>\n",
       "    </tr>\n",
       "    <tr>\n",
       "      <th>13</th>\n",
       "      <td>114</td>\n",
       "      <td>Prapti</td>\n",
       "      <td>IT</td>\n",
       "      <td>70000</td>\n",
       "      <td>Mumbai</td>\n",
       "    </tr>\n",
       "    <tr>\n",
       "      <th>14</th>\n",
       "      <td>115</td>\n",
       "      <td>Nayan</td>\n",
       "      <td>Inventory</td>\n",
       "      <td>55000</td>\n",
       "      <td>Surat</td>\n",
       "    </tr>\n",
       "  </tbody>\n",
       "</table>\n",
       "</div>"
      ],
      "text/plain": [
       "      0         1          2      3         4\n",
       "0   101        OM         IT  27500     Surat\n",
       "1   102       SAI    Account  20000   Bardoli\n",
       "2   103       RAM         HR  16500     Surat\n",
       "3   104     RADHA  Inventory  25000     Baben\n",
       "4   105   Krishna         IT  35000    Mumbai\n",
       "5   106      Shiv         HR  50000  Banglore\n",
       "6   107   Paravti  Inventory  40000     Delhi\n",
       "7   108      Gopi    Account  30000  Vadodara\n",
       "8   109      Anil         IT  60000    Mumbai\n",
       "9   110   Lakhsmi  Inventory  22000     Surat\n",
       "10  111     Jinal         HR  77000     Surat\n",
       "11  112  Prathana    Account  30000    Valsad\n",
       "12  113      Neti         HR  90000   Kolkata\n",
       "13  114    Prapti         IT  70000    Mumbai\n",
       "14  115     Nayan  Inventory  55000     Surat"
      ]
     },
     "execution_count": 33,
     "metadata": {},
     "output_type": "execute_result"
    }
   ],
   "source": [
    "pd.DataFrame(cur.fetchall())"
   ]
  },
  {
   "cell_type": "code",
   "execution_count": 34,
   "id": "aaf04ed6",
   "metadata": {},
   "outputs": [],
   "source": [
    "con.commit()"
   ]
  },
  {
   "cell_type": "markdown",
   "id": "32de89cd",
   "metadata": {},
   "source": [
    "8. Print records whrere employee name second character is \"r\"."
   ]
  },
  {
   "cell_type": "code",
   "execution_count": 35,
   "id": "71d18c26",
   "metadata": {},
   "outputs": [],
   "source": [
    "sl4=\"select * from employee where ename LIKE '_r%'\""
   ]
  },
  {
   "cell_type": "code",
   "execution_count": 36,
   "id": "5381ca31",
   "metadata": {},
   "outputs": [
    {
     "data": {
      "text/plain": [
       "<sqlite3.Cursor at 0x1e8bc50b940>"
      ]
     },
     "execution_count": 36,
     "metadata": {},
     "output_type": "execute_result"
    }
   ],
   "source": [
    "cur.execute(sl4)"
   ]
  },
  {
   "cell_type": "code",
   "execution_count": 37,
   "id": "c91f80c8",
   "metadata": {},
   "outputs": [
    {
     "data": {
      "text/html": [
       "<div>\n",
       "<style scoped>\n",
       "    .dataframe tbody tr th:only-of-type {\n",
       "        vertical-align: middle;\n",
       "    }\n",
       "\n",
       "    .dataframe tbody tr th {\n",
       "        vertical-align: top;\n",
       "    }\n",
       "\n",
       "    .dataframe thead th {\n",
       "        text-align: right;\n",
       "    }\n",
       "</style>\n",
       "<table border=\"1\" class=\"dataframe\">\n",
       "  <thead>\n",
       "    <tr style=\"text-align: right;\">\n",
       "      <th></th>\n",
       "      <th>0</th>\n",
       "      <th>1</th>\n",
       "      <th>2</th>\n",
       "      <th>3</th>\n",
       "      <th>4</th>\n",
       "    </tr>\n",
       "  </thead>\n",
       "  <tbody>\n",
       "    <tr>\n",
       "      <th>0</th>\n",
       "      <td>105</td>\n",
       "      <td>Krishna</td>\n",
       "      <td>IT</td>\n",
       "      <td>35000</td>\n",
       "      <td>Mumbai</td>\n",
       "    </tr>\n",
       "    <tr>\n",
       "      <th>1</th>\n",
       "      <td>112</td>\n",
       "      <td>Prathana</td>\n",
       "      <td>Account</td>\n",
       "      <td>30000</td>\n",
       "      <td>Valsad</td>\n",
       "    </tr>\n",
       "    <tr>\n",
       "      <th>2</th>\n",
       "      <td>114</td>\n",
       "      <td>Prapti</td>\n",
       "      <td>IT</td>\n",
       "      <td>70000</td>\n",
       "      <td>Mumbai</td>\n",
       "    </tr>\n",
       "  </tbody>\n",
       "</table>\n",
       "</div>"
      ],
      "text/plain": [
       "     0         1        2      3       4\n",
       "0  105   Krishna       IT  35000  Mumbai\n",
       "1  112  Prathana  Account  30000  Valsad\n",
       "2  114    Prapti       IT  70000  Mumbai"
      ]
     },
     "execution_count": 37,
     "metadata": {},
     "output_type": "execute_result"
    }
   ],
   "source": [
    "pd.DataFrame(cur.fetchall())"
   ]
  },
  {
   "cell_type": "code",
   "execution_count": 38,
   "id": "1d5df035",
   "metadata": {},
   "outputs": [],
   "source": [
    "con.commit()"
   ]
  },
  {
   "cell_type": "markdown",
   "id": "c2462d74",
   "metadata": {},
   "source": [
    "9. Grouping record of employee who are from \"Account\" and \"Inventory\"."
   ]
  },
  {
   "cell_type": "code",
   "execution_count": 39,
   "id": "04ead0e6",
   "metadata": {},
   "outputs": [],
   "source": [
    "s6=\"select dept,count(*) from employee group by dept having dept IN('Account','Inventory') \""
   ]
  },
  {
   "cell_type": "code",
   "execution_count": 40,
   "id": "aaf304a2",
   "metadata": {},
   "outputs": [
    {
     "data": {
      "text/plain": [
       "<sqlite3.Cursor at 0x1e8bc50b940>"
      ]
     },
     "execution_count": 40,
     "metadata": {},
     "output_type": "execute_result"
    }
   ],
   "source": [
    "cur.execute(s6)"
   ]
  },
  {
   "cell_type": "code",
   "execution_count": 41,
   "id": "8b947ed5",
   "metadata": {},
   "outputs": [
    {
     "data": {
      "text/html": [
       "<div>\n",
       "<style scoped>\n",
       "    .dataframe tbody tr th:only-of-type {\n",
       "        vertical-align: middle;\n",
       "    }\n",
       "\n",
       "    .dataframe tbody tr th {\n",
       "        vertical-align: top;\n",
       "    }\n",
       "\n",
       "    .dataframe thead th {\n",
       "        text-align: right;\n",
       "    }\n",
       "</style>\n",
       "<table border=\"1\" class=\"dataframe\">\n",
       "  <thead>\n",
       "    <tr style=\"text-align: right;\">\n",
       "      <th></th>\n",
       "      <th>0</th>\n",
       "      <th>1</th>\n",
       "    </tr>\n",
       "  </thead>\n",
       "  <tbody>\n",
       "    <tr>\n",
       "      <th>0</th>\n",
       "      <td>Account</td>\n",
       "      <td>3</td>\n",
       "    </tr>\n",
       "    <tr>\n",
       "      <th>1</th>\n",
       "      <td>Inventory</td>\n",
       "      <td>4</td>\n",
       "    </tr>\n",
       "  </tbody>\n",
       "</table>\n",
       "</div>"
      ],
      "text/plain": [
       "           0  1\n",
       "0    Account  3\n",
       "1  Inventory  4"
      ]
     },
     "execution_count": 41,
     "metadata": {},
     "output_type": "execute_result"
    }
   ],
   "source": [
    "pd.DataFrame(cur.fetchall())"
   ]
  },
  {
   "cell_type": "code",
   "execution_count": 42,
   "id": "96baa227",
   "metadata": {},
   "outputs": [],
   "source": [
    "con.commit()"
   ]
  },
  {
   "cell_type": "markdown",
   "id": "e89c233c",
   "metadata": {},
   "source": [
    "10. Print all records based on branch name in descending order."
   ]
  },
  {
   "cell_type": "code",
   "execution_count": 43,
   "id": "c22ff9c0",
   "metadata": {},
   "outputs": [],
   "source": [
    "s7=\"select * from employee order by branch DESC\""
   ]
  },
  {
   "cell_type": "code",
   "execution_count": 44,
   "id": "f9ebce5f",
   "metadata": {},
   "outputs": [
    {
     "data": {
      "text/plain": [
       "<sqlite3.Cursor at 0x1e8bc50b940>"
      ]
     },
     "execution_count": 44,
     "metadata": {},
     "output_type": "execute_result"
    }
   ],
   "source": [
    "cur.execute(s7)"
   ]
  },
  {
   "cell_type": "code",
   "execution_count": 45,
   "id": "1f3caee4",
   "metadata": {},
   "outputs": [
    {
     "data": {
      "text/html": [
       "<div>\n",
       "<style scoped>\n",
       "    .dataframe tbody tr th:only-of-type {\n",
       "        vertical-align: middle;\n",
       "    }\n",
       "\n",
       "    .dataframe tbody tr th {\n",
       "        vertical-align: top;\n",
       "    }\n",
       "\n",
       "    .dataframe thead th {\n",
       "        text-align: right;\n",
       "    }\n",
       "</style>\n",
       "<table border=\"1\" class=\"dataframe\">\n",
       "  <thead>\n",
       "    <tr style=\"text-align: right;\">\n",
       "      <th></th>\n",
       "      <th>0</th>\n",
       "      <th>1</th>\n",
       "      <th>2</th>\n",
       "      <th>3</th>\n",
       "      <th>4</th>\n",
       "    </tr>\n",
       "  </thead>\n",
       "  <tbody>\n",
       "    <tr>\n",
       "      <th>0</th>\n",
       "      <td>112</td>\n",
       "      <td>Prathana</td>\n",
       "      <td>Account</td>\n",
       "      <td>30000</td>\n",
       "      <td>Valsad</td>\n",
       "    </tr>\n",
       "    <tr>\n",
       "      <th>1</th>\n",
       "      <td>108</td>\n",
       "      <td>Gopi</td>\n",
       "      <td>Account</td>\n",
       "      <td>30000</td>\n",
       "      <td>Vadodara</td>\n",
       "    </tr>\n",
       "    <tr>\n",
       "      <th>2</th>\n",
       "      <td>101</td>\n",
       "      <td>OM</td>\n",
       "      <td>IT</td>\n",
       "      <td>27500</td>\n",
       "      <td>Surat</td>\n",
       "    </tr>\n",
       "    <tr>\n",
       "      <th>3</th>\n",
       "      <td>103</td>\n",
       "      <td>RAM</td>\n",
       "      <td>HR</td>\n",
       "      <td>16500</td>\n",
       "      <td>Surat</td>\n",
       "    </tr>\n",
       "    <tr>\n",
       "      <th>4</th>\n",
       "      <td>110</td>\n",
       "      <td>Lakhsmi</td>\n",
       "      <td>Inventory</td>\n",
       "      <td>22000</td>\n",
       "      <td>Surat</td>\n",
       "    </tr>\n",
       "    <tr>\n",
       "      <th>5</th>\n",
       "      <td>111</td>\n",
       "      <td>Jinal</td>\n",
       "      <td>HR</td>\n",
       "      <td>77000</td>\n",
       "      <td>Surat</td>\n",
       "    </tr>\n",
       "    <tr>\n",
       "      <th>6</th>\n",
       "      <td>115</td>\n",
       "      <td>Nayan</td>\n",
       "      <td>Inventory</td>\n",
       "      <td>55000</td>\n",
       "      <td>Surat</td>\n",
       "    </tr>\n",
       "    <tr>\n",
       "      <th>7</th>\n",
       "      <td>105</td>\n",
       "      <td>Krishna</td>\n",
       "      <td>IT</td>\n",
       "      <td>35000</td>\n",
       "      <td>Mumbai</td>\n",
       "    </tr>\n",
       "    <tr>\n",
       "      <th>8</th>\n",
       "      <td>109</td>\n",
       "      <td>Anil</td>\n",
       "      <td>IT</td>\n",
       "      <td>60000</td>\n",
       "      <td>Mumbai</td>\n",
       "    </tr>\n",
       "    <tr>\n",
       "      <th>9</th>\n",
       "      <td>114</td>\n",
       "      <td>Prapti</td>\n",
       "      <td>IT</td>\n",
       "      <td>70000</td>\n",
       "      <td>Mumbai</td>\n",
       "    </tr>\n",
       "    <tr>\n",
       "      <th>10</th>\n",
       "      <td>113</td>\n",
       "      <td>Neti</td>\n",
       "      <td>HR</td>\n",
       "      <td>90000</td>\n",
       "      <td>Kolkata</td>\n",
       "    </tr>\n",
       "    <tr>\n",
       "      <th>11</th>\n",
       "      <td>107</td>\n",
       "      <td>Paravti</td>\n",
       "      <td>Inventory</td>\n",
       "      <td>40000</td>\n",
       "      <td>Delhi</td>\n",
       "    </tr>\n",
       "    <tr>\n",
       "      <th>12</th>\n",
       "      <td>102</td>\n",
       "      <td>SAI</td>\n",
       "      <td>Account</td>\n",
       "      <td>20000</td>\n",
       "      <td>Bardoli</td>\n",
       "    </tr>\n",
       "    <tr>\n",
       "      <th>13</th>\n",
       "      <td>106</td>\n",
       "      <td>Shiv</td>\n",
       "      <td>HR</td>\n",
       "      <td>50000</td>\n",
       "      <td>Banglore</td>\n",
       "    </tr>\n",
       "    <tr>\n",
       "      <th>14</th>\n",
       "      <td>104</td>\n",
       "      <td>RADHA</td>\n",
       "      <td>Inventory</td>\n",
       "      <td>25000</td>\n",
       "      <td>Baben</td>\n",
       "    </tr>\n",
       "  </tbody>\n",
       "</table>\n",
       "</div>"
      ],
      "text/plain": [
       "      0         1          2      3         4\n",
       "0   112  Prathana    Account  30000    Valsad\n",
       "1   108      Gopi    Account  30000  Vadodara\n",
       "2   101        OM         IT  27500     Surat\n",
       "3   103       RAM         HR  16500     Surat\n",
       "4   110   Lakhsmi  Inventory  22000     Surat\n",
       "5   111     Jinal         HR  77000     Surat\n",
       "6   115     Nayan  Inventory  55000     Surat\n",
       "7   105   Krishna         IT  35000    Mumbai\n",
       "8   109      Anil         IT  60000    Mumbai\n",
       "9   114    Prapti         IT  70000    Mumbai\n",
       "10  113      Neti         HR  90000   Kolkata\n",
       "11  107   Paravti  Inventory  40000     Delhi\n",
       "12  102       SAI    Account  20000   Bardoli\n",
       "13  106      Shiv         HR  50000  Banglore\n",
       "14  104     RADHA  Inventory  25000     Baben"
      ]
     },
     "execution_count": 45,
     "metadata": {},
     "output_type": "execute_result"
    }
   ],
   "source": [
    "pd.DataFrame(cur.fetchall())"
   ]
  },
  {
   "cell_type": "code",
   "execution_count": 46,
   "id": "0d57ff74",
   "metadata": {},
   "outputs": [],
   "source": [
    "con.commit()"
   ]
  },
  {
   "cell_type": "code",
   "execution_count": 47,
   "id": "d1cf3d5d",
   "metadata": {},
   "outputs": [],
   "source": [
    "con.close()"
   ]
  }
 ],
 "metadata": {
  "kernelspec": {
   "display_name": "Python 3 (ipykernel)",
   "language": "python",
   "name": "python3"
  },
  "language_info": {
   "codemirror_mode": {
    "name": "ipython",
    "version": 3
   },
   "file_extension": ".py",
   "mimetype": "text/x-python",
   "name": "python",
   "nbconvert_exporter": "python",
   "pygments_lexer": "ipython3",
   "version": "3.10.7"
  }
 },
 "nbformat": 4,
 "nbformat_minor": 5
}
